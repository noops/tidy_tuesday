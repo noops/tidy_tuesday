{
 "cells": [
  {
   "cell_type": "code",
   "execution_count": null,
   "metadata": {},
   "outputs": [],
   "source": [
    "import pandas as pd\n",
    "import numpy as np\n",
    "import matplotlib as plt\n",
    "import plotly.express as px \n",
    "\n",
    "PFW_2021_public = pd.read_csv('/Users/bkirton/Desktop/python/ipynb/tidy_tuesday/data_sources/PFW_2021_public.csv')\n",
    "PFW_2021_public.head()\n",
    "\n",
    "# There are almost three million rows! The file is too big for github, let's subsample.\n",
    "np.random.seed(424242)\n",
    "PFW_2021_public_subset = PFW_2021_public.sample(n=100000)\n",
    "\n",
    "\n"
   ]
  },
  {
   "cell_type": "code",
   "execution_count": null,
   "metadata": {},
   "outputs": [],
   "source": [
    "#get df info\n",
    "PFW_2021_public_subset.info()"
   ]
  },
  {
   "cell_type": "code",
   "execution_count": null,
   "metadata": {},
   "outputs": [],
   "source": [
    "# Check for missing values in the dataframe\n",
    "missing_values = PFW_2021_public_subset.isna().sum()\n",
    "print(missing_values)"
   ]
  },
  {
   "cell_type": "code",
   "execution_count": null,
   "metadata": {},
   "outputs": [],
   "source": [
    "\n",
    "\n",
    "# group the dataframe by latitude and longitude and count the occurrences of each pair\n",
    "freq = PFW_2021_public_subset.groupby(['latitude', 'longitude']).size().reset_index(name='count')\n",
    "\n",
    "# filter the dataframe to show only sites with more than 10 frequencies\n",
    "freq = freq[freq['count'] > 15]\n",
    "\n",
    "# create the map using Plotly Express\n",
    "fig = px.scatter_mapbox(freq, lat=\"latitude\", lon=\"longitude\", hover_name=\"count\", zoom=8, color='count', size='count')\n",
    "\n",
    "# update the map style and layout\n",
    "fig.update_layout(\n",
    "    mapbox_style=\"open-street-map\",\n",
    "    margin={\"r\":0,\"t\":0,\"l\":0,\"b\":0}\n",
    ")\n",
    "\n",
    "# show the map\n",
    "fig.show()"
   ]
  },
  {
   "cell_type": "code",
   "execution_count": null,
   "metadata": {},
   "outputs": [],
   "source": [
    "# Group data by state and count the number of occurrences for each state\n",
    "state_counts = PFW_2021_public_subset.groupby(\"subnational1_code\").size().reset_index(name=\"count\")\n",
    "\n",
    "# Sort data in descending order by the count\n",
    "state_counts = state_counts.sort_values(by=\"count\", ascending=False)\n",
    "\n",
    "fig = px.bar(state_counts, x = 'subnational1_code', y = 'count', title = 'Bird Watching Popularity by State', labels = {'subnational1_code': 'State', 'count': 'Number of Sightings'})\n",
    "\n",
    "fig.update_layout(xaxis_tickangle=-45)\n",
    "\n",
    "fig.show()"
   ]
  },
  {
   "cell_type": "code",
   "execution_count": null,
   "metadata": {},
   "outputs": [],
   "source": [
    "#time series analysis to show trends in bird sightings over time \n",
    "\n",
    "# Group the data by year and month and count the number of sightings\n",
    "sightings_by_month = PFW_2021_public_subset.groupby([\"Year\", \"Month\"])[\"obs_id\"].count()\n",
    "\n",
    "# Reset the index and rename the columns\n",
    "sightings_by_month = sightings_by_month.reset_index()\n",
    "sightings_by_month.columns = [\"Year\", \"Month\", \"Sightings\"]\n",
    "\n",
    "# Create the line plot\n",
    "fig = px.line(sightings_by_month, x=\"Month\", y=\"Sightings\", color=\"Year\", title=\"Bird Sightings by Month and Year\")\n",
    "fig.show()"
   ]
  },
  {
   "cell_type": "code",
   "execution_count": null,
   "metadata": {},
   "outputs": [],
   "source": [
    "#species diversity: number of unique species observed in each state \n",
    "\n",
    "#drop xx- and pm- from subnational1_code\n",
    "PFW_2021_public_subset = PFW_2021_public_subset[~PFW_2021_public_subset['subnational1_code'].isin(['XX-', 'PM-'])]\n",
    "\n",
    "# Get the number of unique species observed in each state\n",
    "species_counts = PFW_2021_public_subset.groupby(\"subnational1_code\")[\"species_code\"].nunique().reset_index()\n",
    "species_counts = species_counts.rename(columns={\"species_code\": \"Species Count\",'subnational1_code':'state' })\n",
    "species_counts_sorted = species_counts.sort_values(by = 'Species Count', ascending=False)\n",
    "\n",
    "\n",
    "# Create a bar chart of the species counts by state\n",
    "fig = px.bar(species_counts_sorted, x=\"state\", y=\"Species Count\", title=\"Number of Unique Bird Species Observed by State\", color = 'Species Count' )\n",
    "fig.show()"
   ]
  },
  {
   "cell_type": "code",
   "execution_count": null,
   "metadata": {},
   "outputs": [],
   "source": [
    "#Bird density: You can calculate the number of bird sightings per square mile for each state and create a choropleth map to see which areas have the highest bird densities.\n",
    "\n",
    "#Habitat preferences: You can investigate which habitats are preferred by different bird species. For example, you could create scatter plots of bird sightings against vegetation density or water availability.\n",
    "\n",
    "#Migration patterns: You can identify which bird species are migratory and create maps to show their migration routes.\n",
    "\n",
    "#need to download the site description field details csv to do the above"
   ]
  },
  {
   "cell_type": "code",
   "execution_count": null,
   "metadata": {},
   "outputs": [],
   "source": [
    "# Filter out Canadian states and remove \"US-\" prefix from US state abbreviations\n",
    "PFW_2021_public_subset = PFW_2021_public_subset[PFW_2021_public_subset[\"subnational1_code\"].str.startswith(\"US-\")]\n",
    "PFW_2021_public_subset[\"subnational1_code\"] = PFW_2021_public_subset[\"subnational1_code\"].str.replace(\"US-\", \"\")\n",
    "\n",
    "# Group the data by state and count the number of sightings\n",
    "sightings_by_state = PFW_2021_public_subset.groupby(\"subnational1_code\")[\"obs_id\"].count().reset_index()\n",
    "sightings_by_state = sightings_by_state.rename(columns={\"obs_id\": \"Sightings\", \"subnational1_code\": \"State\"})\n",
    "\n",
    "# Create the choropleth map\n",
    "fig = px.choropleth(sightings_by_state, locations=\"State\", locationmode=\"USA-states\", color=\"Sightings\",\n",
    "                    scope=\"usa\", title=\"Bird Sightings by State\")\n",
    "fig.show()"
   ]
  },
  {
   "cell_type": "code",
   "execution_count": null,
   "metadata": {},
   "outputs": [],
   "source": [
    "# Get the number of unique species observed in each state\n",
    "species_counts = PFW_2021_public_subset.groupby(\"subnational1_code\")[\"species_code\"].nunique().reset_index()\n",
    "species_counts = species_counts.rename(columns={\"species_code\": \"Species Count\",'subnational1_code':'state' })\n",
    "\n",
    "# Create the choropleth map\n",
    "fig = px.choropleth(species_counts, locations=\"state\", locationmode=\"USA-states\", color=\"Species Count\",\n",
    "                    scope=\"usa\", title=\"Number of Unique Bird Species Observed by State\")\n",
    "fig.show()"
   ]
  },
  {
   "cell_type": "code",
   "execution_count": null,
   "metadata": {},
   "outputs": [],
   "source": [
    "#subset grackle data\n",
    "grackle_df = PFW_2021_public[PFW_2021_public['species_code'].str.contains('gra')]"
   ]
  },
  {
   "cell_type": "code",
   "execution_count": null,
   "metadata": {},
   "outputs": [],
   "source": [
    "# Calculate the total number of grackle sightings\n",
    "total_sightings = len(grackle_df)\n",
    "\n",
    "# Calculate the average latitude and longitude of grackle sightings\n",
    "avg_latitude = grackle_df['latitude'].mean()\n",
    "avg_longitude = grackle_df['longitude'].mean()\n",
    "\n",
    "# Print the summary statistics\n",
    "print(\"Total Grackle Sightings:\", total_sightings)\n",
    "print(\"Average Latitude:\", avg_latitude)\n",
    "print(\"Average Longitude:\", avg_longitude)"
   ]
  },
  {
   "cell_type": "code",
   "execution_count": null,
   "metadata": {},
   "outputs": [],
   "source": [
    "# Group grackle sightings by state and count the occurrences\n",
    "state_sightings = grackle_df.groupby('subnational1_code')['obs_id'].count().reset_index()\n",
    "state_sightings.columns = ['State', 'Grackle Sightings']\n",
    "\n",
    "# Create the choropleth map\n",
    "fig = px.choropleth(state_sightings, locations='State', locationmode='USA-states', color='Grackle Sightings',\n",
    "                    scope='usa', title='Grackle Sightings by State')\n",
    "\n",
    "# Show the map\n",
    "fig.show()"
   ]
  },
  {
   "cell_type": "code",
   "execution_count": null,
   "metadata": {},
   "outputs": [],
   "source": [
    "# Combine day, month, and year columns into a date column\n",
    "grackle_df['Date'] = pd.to_datetime(grackle_df[['Year', 'Month', 'Day']])\n",
    "\n",
    "# Convert the Date column to string format\n",
    "grackle_df['Date'] = grackle_df['Date'].dt.strftime('%Y-%m-%d')\n",
    "\n",
    "# Sort the DataFrame by date\n",
    "grackle_df_sorted = grackle_df.sort_values(by='Date')\n",
    "\n",
    "# Create an animated scatter plot\n",
    "fig = px.scatter_mapbox(grackle_df_sorted, lat=\"latitude\", lon=\"longitude\", animation_frame=\"Date\",\n",
    "                        hover_name=\"obs_id\", color_continuous_scale=\"Viridis\",\n",
    "                        title=\"Grackle Movement\")\n",
    "\n",
    "# Set mapbox style and center the map\n",
    "fig.update_layout(mapbox_style=\"carto-positron\", mapbox_center={\"lat\": grackle_df['latitude'].mean(),\n",
    "                                                               \"lon\": grackle_df['longitude'].mean()},\n",
    "                  mapbox_zoom=4)\n",
    "\n",
    "# Show the plot\n",
    "fig.show()"
   ]
  },
  {
   "cell_type": "code",
   "execution_count": null,
   "metadata": {},
   "outputs": [],
   "source": [
    "# Filter grackle sightings for Texas\n",
    "grackle_df_texas = grackle_df[grackle_df['subnational1_code'] == 'US-TX']\n",
    "\n",
    "# Create a scatter plot\n",
    "fig = px.scatter_mapbox(grackle_df_texas, lat=\"latitude\", lon=\"longitude\", color=\"Date\",\n",
    "                        hover_name=\"obs_id\", color_continuous_scale=\"Viridis\",\n",
    "                        title=\"Grackle Sightings in Texas\")\n",
    "fig.update_layout(mapbox_style=\"carto-positron\", mapbox_zoom=6, mapbox_center={\"lat\": 31.9686, \"lon\": -99.9018})\n",
    "\n",
    "# Show the plot\n",
    "fig.show()"
   ]
  },
  {
   "cell_type": "code",
   "execution_count": null,
   "metadata": {},
   "outputs": [],
   "source": [
    "# Filter grackle sightings for Texas\n",
    "grackle_df_texas = grackle_df[grackle_df['subnational1_code'] == 'US-TX']\n",
    "\n",
    "# Create a density mapbox plot\n",
    "fig = px.density_mapbox(grackle_df_texas, lat=\"latitude\", lon=\"longitude\", radius=10,\n",
    "                        center=dict(lat=31.9686, lon=-99.9018), zoom=6,\n",
    "                        mapbox_style=\"carto-positron\", title=\"Grackle Sighting Density in Texas\")\n",
    "\n",
    "# Show the plot\n",
    "fig.show()"
   ]
  },
  {
   "cell_type": "code",
   "execution_count": null,
   "metadata": {},
   "outputs": [],
   "source": [
    "\n",
    "# Sort grackle sightings by date\n",
    "grackle_df_sorted = grackle_df.sort_values('Date')\n",
    "\n",
    "# Create an animated scatter plot\n",
    "fig = px.scatter_mapbox(grackle_df_sorted, lat=\"latitude\", lon=\"longitude\", color=\"Date\",\n",
    "                        hover_name=\"obs_id\", animation_frame=\"Date\",\n",
    "                        color_continuous_scale=\"Viridis\", range_color=[grackle_df_sorted['Date'].min(), grackle_df_sorted['Date'].max()],\n",
    "                        title=\"Grackle Migrations\")\n",
    "fig.update_layout(mapbox_style=\"carto-positron\", mapbox_zoom=6, mapbox_center={\"lat\": 31.9686, \"lon\": -99.9018})\n",
    "\n",
    "# Show the plot\n",
    "fig.show()"
   ]
  },
  {
   "cell_type": "code",
   "execution_count": null,
   "metadata": {},
   "outputs": [],
   "source": [
    "# view grackle sightings by species \n",
    "\n",
    "grackle_species = grackle_df['species_code'].unique().tolist()\n",
    "\n",
    "# Create a separate animated plot for each grackle species\n",
    "for species in grackle_species:\n",
    "    # Filter grackle sightings for the current species\n",
    "    species_df = grackle_df[grackle_df['species_code'] == species]\n",
    "\n",
    "    # Sort sightings by date\n",
    "    species_df_sorted = species_df.sort_values('Date')\n",
    "\n",
    "    # Create an animated scatter plot for the current species\n",
    "    fig = px.scatter_mapbox(species_df_sorted, lat=\"latitude\", lon=\"longitude\", color=\"Date\",\n",
    "                            hover_name=\"obs_id\", animation_frame=\"Date\",\n",
    "                            color_continuous_scale=\"Viridis\",\n",
    "                            title=f\"{species} Migrations\")\n",
    "    fig.update_layout(mapbox_style=\"carto-positron\", mapbox_zoom=6, mapbox_center={\"lat\": 31.9686, \"lon\": -99.9018})\n",
    "\n",
    "    # Show the plot\n",
    "    fig.show()"
   ]
  },
  {
   "cell_type": "code",
   "execution_count": null,
   "metadata": {},
   "outputs": [],
   "source": [
    "fig = px.scatter_mapbox(grackle_df, lat=\"latitude\", lon=\"longitude\", color=\"species_code\",\n",
    "                        hover_name=\"obs_id\", animation_frame=\"Date\",\n",
    "                        color_discrete_sequence=px.colors.qualitative.Set1,\n",
    "                        title=\"Grackle Species Migrations\")\n",
    "fig.update_layout(mapbox_style=\"carto-positron\", mapbox_zoom=6, mapbox_center={\"lat\": 31.9686, \"lon\": -99.9018})\n",
    "\n",
    "# Show the plot\n",
    "fig.show()"
   ]
  },
  {
   "cell_type": "code",
   "execution_count": null,
   "metadata": {},
   "outputs": [],
   "source": [
    "grackle_species = grackle_df['species_code'].unique().tolist()"
   ]
  },
  {
   "cell_type": "code",
   "execution_count": null,
   "metadata": {},
   "outputs": [],
   "source": [
    "grackle_species"
   ]
  }
 ],
 "metadata": {
  "kernelspec": {
   "display_name": "Python 3",
   "language": "python",
   "name": "python3"
  },
  "language_info": {
   "codemirror_mode": {
    "name": "ipython",
    "version": 3
   },
   "file_extension": ".py",
   "mimetype": "text/x-python",
   "name": "python",
   "nbconvert_exporter": "python",
   "pygments_lexer": "ipython3",
   "version": "3.11.2"
  },
  "orig_nbformat": 4
 },
 "nbformat": 4,
 "nbformat_minor": 2
}
